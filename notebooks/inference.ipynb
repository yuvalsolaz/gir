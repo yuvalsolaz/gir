{
 "cells": [
  {
   "cell_type": "code",
   "execution_count": 3,
   "id": "dd48f494",
   "metadata": {},
   "outputs": [],
   "source": [
    "import sys\n",
    "import numpy as np\n",
    "import pandas as pd\n",
    "from sklearn.metrics import accuracy_score, confusion_matrix, ConfusionMatrixDisplay\n",
    "from transformers import AutoModelForSeq2SeqLM\n",
    "from transformers import AutoTokenizer\n",
    "from tqdm import tqdm\n",
    "import matplotlib.pyplot as plt"
   ]
  },
  {
   "cell_type": "code",
   "execution_count": 3,
   "id": "9882894b",
   "metadata": {},
   "outputs": [
    {
     "name": "stdout",
     "output_type": "stream",
     "text": [
      "loading tokenizer from t5-small\n"
     ]
    }
   ],
   "source": [
    "print(f'loading tokenizer from t5-small')\n",
    "tokenizer = AutoTokenizer.from_pretrained('t5-small')"
   ]
  },
  {
   "cell_type": "code",
   "execution_count": 7,
   "id": "9ccd031b",
   "metadata": {},
   "outputs": [
    {
     "name": "stdout",
     "output_type": "stream",
     "text": [
      "loading model from /home/yuvalso/2_b_del/checkpoint-75500/...\n",
      "model loaded with 60506624 parameters\n"
     ]
    }
   ],
   "source": [
    "checkpoint = r'/home/yuvalso/2_b_del/checkpoint-75500/'\n",
    "print(f'loading model from {checkpoint}...')\n",
    "model = AutoModelForSeq2SeqLM.from_pretrained(pretrained_model_name_or_path=checkpoint)\n",
    "model_parameters = filter(lambda p: p.requires_grad, model.parameters())\n",
    "params = sum([np.prod(p.size()) for p in model_parameters])\n",
    "print(f'model loaded with {params} parameters')"
   ]
  },
  {
   "cell_type": "code",
   "execution_count": 8,
   "id": "cc219121",
   "metadata": {},
   "outputs": [],
   "source": [
    "samples_file = r'/home/yuvalso/repository/gir/data/wiki/benchmark_test_small.csv'"
   ]
  },
  {
   "cell_type": "code",
   "execution_count": 10,
   "id": "82bcdc67",
   "metadata": {},
   "outputs": [],
   "source": [
    "df = pd.read_csv(samples_file,dtype=str)\n",
    "if 'input' not in df.columns:\n",
    "    print(f'invalid sample file: missing input column in {samples_file} file')\n",
    "    print(df.head())"
   ]
  },
  {
   "cell_type": "code",
   "execution_count": 11,
   "id": "2e834f9c",
   "metadata": {},
   "outputs": [],
   "source": [
    "def inference(sentence):\n",
    "    input_ids = tokenizer(sentence, return_tensors=\"pt\").input_ids\n",
    "    outputs = model.generate(input_ids,\n",
    "                             max_length=10,\n",
    "                             num_beams=10,\n",
    "                             length_penalty=0.0,\n",
    "                             output_scores=True)\n",
    "    return tokenizer.batch_decode(outputs, skip_special_tokens=True)"
   ]
  },
  {
   "cell_type": "code",
   "execution_count": 12,
   "id": "f03b92b1",
   "metadata": {},
   "outputs": [
    {
     "name": "stdout",
     "output_type": "stream",
     "text": [
      "evaluates 437 samples from /home/yuvalso/repository/gir/data/wiki/benchmark_test_small.csv\n"
     ]
    },
    {
     "name": "stderr",
     "output_type": "stream",
     "text": [
      "100%|██████████| 437/437 [01:03<00:00,  6.91it/s]\n"
     ]
    }
   ],
   "source": [
    "print(f'evaluates {df.shape[0]} samples from {samples_file}')\n",
    "\n",
    "rows = []\n",
    "for index, row in tqdm(df.iterrows(), total=df.shape[0]):\n",
    "    if row['s2_sequence'] == row['s2_sequence']:\n",
    "        row['inference'] = inference(row['input'])[0]\n",
    "        if row['inference'] and row['inference'] != np.nan:\n",
    "            rows.append(row)"
   ]
  },
  {
   "cell_type": "code",
   "execution_count": 14,
   "id": "84c63a86",
   "metadata": {},
   "outputs": [
    {
     "name": "stdout",
     "output_type": "stream",
     "text": [
      "412 inference rows out of 437 samples\n"
     ]
    },
    {
     "data": {
      "text/html": [
       "<div>\n",
       "<style scoped>\n",
       "    .dataframe tbody tr th:only-of-type {\n",
       "        vertical-align: middle;\n",
       "    }\n",
       "\n",
       "    .dataframe tbody tr th {\n",
       "        vertical-align: top;\n",
       "    }\n",
       "\n",
       "    .dataframe thead th {\n",
       "        text-align: right;\n",
       "    }\n",
       "</style>\n",
       "<table border=\"1\" class=\"dataframe\">\n",
       "  <thead>\n",
       "    <tr style=\"text-align: right;\">\n",
       "      <th></th>\n",
       "      <th>input</th>\n",
       "      <th>inference</th>\n",
       "    </tr>\n",
       "  </thead>\n",
       "  <tbody>\n",
       "    <tr>\n",
       "      <th>0</th>\n",
       "      <td>human settlement in Kanyakumari district, Tami...</td>\n",
       "      <td>31</td>\n",
       "    </tr>\n",
       "    <tr>\n",
       "      <th>1</th>\n",
       "      <td>suburb of Dublin</td>\n",
       "      <td>10030</td>\n",
       "    </tr>\n",
       "    <tr>\n",
       "      <th>2</th>\n",
       "      <td>building in Montana, United States</td>\n",
       "      <td>2</td>\n",
       "    </tr>\n",
       "    <tr>\n",
       "      <th>3</th>\n",
       "      <td>square in Grosseto, Italy</td>\n",
       "      <td>212</td>\n",
       "    </tr>\n",
       "    <tr>\n",
       "      <th>4</th>\n",
       "      <td>mountain pass between Zillertal / Tux Alps in ...</td>\n",
       "      <td>0323</td>\n",
       "    </tr>\n",
       "  </tbody>\n",
       "</table>\n",
       "</div>"
      ],
      "text/plain": [
       "                                               input inference\n",
       "0  human settlement in Kanyakumari district, Tami...        31\n",
       "1                                   suburb of Dublin     10030\n",
       "2                 building in Montana, United States         2\n",
       "3                          square in Grosseto, Italy       212\n",
       "4  mountain pass between Zillertal / Tux Alps in ...      0323"
      ]
     },
     "execution_count": 14,
     "metadata": {},
     "output_type": "execute_result"
    }
   ],
   "source": [
    "out_df = pd.DataFrame(rows)\n",
    "print(f'{out_df.shape[0]} inference rows out of {df.shape[0]} samples')\n",
    "out_df[['input', 'inference']].head()"
   ]
  },
  {
   "cell_type": "code",
   "execution_count": 15,
   "id": "0aea85a2",
   "metadata": {},
   "outputs": [
    {
     "name": "stdout",
     "output_type": "stream",
     "text": [
      "accuracy: 0.7669902912621359\n"
     ]
    }
   ],
   "source": [
    "accuracy = accuracy_score(y_true=out_df['s2_sequence'], y_pred=out_df['inference'])\n",
    "print(f'accuracy: {accuracy}')"
   ]
  },
  {
   "cell_type": "code",
   "execution_count": 29,
   "id": "2045c016",
   "metadata": {},
   "outputs": [
    {
     "data": {
      "text/plain": [
       "<sklearn.metrics._plot.confusion_matrix.ConfusionMatrixDisplay at 0x7f3ebf602208>"
      ]
     },
     "execution_count": 29,
     "metadata": {},
     "output_type": "execute_result"
    },
    {
     "data": {
      "image/png": "[encoded data removed]",
      "text/plain": [
       "<Figure size 720x720 with 2 Axes>"
      ]
     },
     "metadata": {
      "needs_background": "light"
     },
     "output_type": "display_data"
    }
   ],
   "source": [
    "plt.rcParams[\"figure.figsize\"] = (10,10)\n",
    "cm = confusion_matrix(y_true=out_df['s2_sequence'], y_pred=out_df['inference'], normalize='true')\n",
    "# cmd = ConfusionMatrixDisplay(cm, display_labels=np.append(out_df['inference'].unique(),'un'))\n",
    "cmd = ConfusionMatrixDisplay(cm[:10,:10], display_labels=out_df['inference'].unique()[:10])\n",
    "cmd.plot()"
   ]
  },
  {
   "cell_type": "code",
   "execution_count": null,
   "id": "647625e0",
   "metadata": {},
   "outputs": [],
   "source": [
    "output_file = samples_file.replace('.csv', '_infer.csv')\n",
    "print(f'save inference results to {output_file}')\n",
    "out_df.to_csv(output_file)"
   ]
  },
  {
   "cell_type": "code",
   "execution_count": 5,
   "id": "a48fe60a",
   "metadata": {},
   "outputs": [
    {
     "data": {
      "image/png": "[encoded data removed]",
      "text/plain": [
       "<Figure size 432x288 with 1 Axes>"
      ]
     },
     "metadata": {
      "needs_background": "light"
     },
     "output_type": "display_data"
    }
   ],
   "source": [
    "import numpy as np\n",
    "\n",
    "\n",
    "x = np.array([80, 85, 90, 95, 100, 105, 110, 115, 120, 125])\n",
    "y = np.array([240, 250, 260, 270, 280, 290, 300, 310, 320, 330])\n",
    "\n",
    "plt.scatter(x, y)\n",
    "\n",
    "plt.xlabel(\"Average Pulse\")\n",
    "plt.ylabel(\"Calorie Burnage\")\n",
    "\n",
    "plt.show()"
   ]
  },
  {
   "cell_type": "code",
   "execution_count": 6,
   "id": "12e0ee9a",
   "metadata": {},
   "outputs": [
    {
     "data": {
      "text/plain": [
       "function"
      ]
     },
     "execution_count": 6,
     "metadata": {},
     "output_type": "execute_result"
    }
   ],
   "source": [
    "type(plt.xlabel)"
   ]
  }
 ],
 "metadata": {
  "kernelspec": {
   "display_name": "Python 3",
   "language": "python",
   "name": "python3"
  },
  "language_info": {
   "codemirror_mode": {
    "name": "ipython",
    "version": 3
   },
   "file_extension": ".py",
   "mimetype": "text/x-python",
   "name": "python",
   "nbconvert_exporter": "python",
   "pygments_lexer": "ipython3",
   "version": "3.6.9"
  }
 },
 "nbformat": 4,
 "nbformat_minor": 5
}
