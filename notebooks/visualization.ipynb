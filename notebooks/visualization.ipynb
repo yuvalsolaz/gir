{
 "cells": [
  {
   "cell_type": "code",
   "execution_count": 1,
   "id": "65b9150a",
   "metadata": {},
   "outputs": [],
   "source": [
    "import sys\n",
    "import numpy as np\n",
    "import pandas as pd"
   ]
  },
  {
   "cell_type": "code",
   "execution_count": 9,
   "id": "425bdb68",
   "metadata": {},
   "outputs": [
    {
     "name": "stdout",
     "output_type": "stream",
     "text": [
      "Collecting plotly\n",
      "  Downloading plotly-5.18.0-py3-none-any.whl (15.6 MB)\n",
      "\u001b[2K     \u001b[90m━━━━━━━━━━━━━━━━━━━━━━━━━━━━━━━━━━━━━━━━\u001b[0m \u001b[32m15.6/15.6 MB\u001b[0m \u001b[31m31.9 MB/s\u001b[0m eta \u001b[36m0:00:00\u001b[0m00:01\u001b[0m00:01\u001b[0m\n",
      "\u001b[?25hCollecting tenacity>=6.2.0 (from plotly)\n",
      "  Using cached tenacity-8.2.3-py3-none-any.whl (24 kB)\n",
      "Requirement already satisfied: packaging in /home/yuvalso/repository/gir/venv/lib/python3.8/site-packages (from plotly) (23.0)\n",
      "Installing collected packages: tenacity, plotly\n",
      "Successfully installed plotly-5.18.0 tenacity-8.2.3\n",
      "\n",
      "\u001b[1m[\u001b[0m\u001b[34;49mnotice\u001b[0m\u001b[1;39;49m]\u001b[0m\u001b[39;49m A new release of pip is available: \u001b[0m\u001b[31;49m23.1.2\u001b[0m\u001b[39;49m -> \u001b[0m\u001b[32;49m23.3.1\u001b[0m\n",
      "\u001b[1m[\u001b[0m\u001b[34;49mnotice\u001b[0m\u001b[1;39;49m]\u001b[0m\u001b[39;49m To update, run: \u001b[0m\u001b[32;49mpip install --upgrade pip\u001b[0m\n"
     ]
    }
   ],
   "source": [
    "!pip install plotly"
   ]
  },
  {
   "cell_type": "code",
   "execution_count": 2,
   "id": "9d8eb166",
   "metadata": {},
   "outputs": [],
   "source": [
    "samples_file = r'/home/yuvalso/repository/gir/data/wiki/benchmark_test_small.csv'"
   ]
  },
  {
   "cell_type": "code",
   "execution_count": 3,
   "id": "39b520b7",
   "metadata": {},
   "outputs": [],
   "source": [
    "df = pd.read_csv(samples_file,dtype=str)\n",
    "if 'input' not in df.columns:\n",
    "    print(f'invalid sample file: missing input column in {samples_file} file')\n",
    "    print(df.head())"
   ]
  },
  {
   "cell_type": "code",
   "execution_count": 5,
   "id": "00895608",
   "metadata": {},
   "outputs": [
    {
     "data": {
      "text/plain": [
       "Index(['Unnamed: 0.1', 'Unnamed: 0', 'id', 'item_id', 'item_type', 'latitude',\n",
       "       'longitude', 'english_label', 'ar_label', 'input', 'heb_desc',\n",
       "       'ar_desc', 'cell_id', 'freeze', 'x', 'y', 'cell_id_level', 'face',\n",
       "       's2_sequence', 'rect'],\n",
       "      dtype='object')"
      ]
     },
     "execution_count": 5,
     "metadata": {},
     "output_type": "execute_result"
    }
   ],
   "source": [
    "df.columns\n",
    "# df.loc['s2_sequence']\n",
    "\n"
   ]
  },
  {
   "cell_type": "code",
   "execution_count": 7,
   "id": "e7760aa9",
   "metadata": {},
   "outputs": [
    {
     "data": {
      "text/html": [
       "<div>\n",
       "<style scoped>\n",
       "    .dataframe tbody tr th:only-of-type {\n",
       "        vertical-align: middle;\n",
       "    }\n",
       "\n",
       "    .dataframe tbody tr th {\n",
       "        vertical-align: top;\n",
       "    }\n",
       "\n",
       "    .dataframe thead th {\n",
       "        text-align: right;\n",
       "    }\n",
       "</style>\n",
       "<table border=\"1\" class=\"dataframe\">\n",
       "  <thead>\n",
       "    <tr style=\"text-align: right;\">\n",
       "      <th></th>\n",
       "      <th>Unnamed: 0.1</th>\n",
       "      <th>Unnamed: 0</th>\n",
       "      <th>id</th>\n",
       "      <th>item_id</th>\n",
       "      <th>item_type</th>\n",
       "      <th>latitude</th>\n",
       "      <th>longitude</th>\n",
       "      <th>english_label</th>\n",
       "      <th>ar_label</th>\n",
       "      <th>input</th>\n",
       "      <th>heb_desc</th>\n",
       "      <th>ar_desc</th>\n",
       "      <th>cell_id</th>\n",
       "      <th>freeze</th>\n",
       "      <th>x</th>\n",
       "      <th>y</th>\n",
       "      <th>cell_id_level</th>\n",
       "      <th>face</th>\n",
       "      <th>s2_sequence</th>\n",
       "      <th>rect</th>\n",
       "    </tr>\n",
       "  </thead>\n",
       "  <tbody>\n",
       "    <tr>\n",
       "      <th>0</th>\n",
       "      <td>0</td>\n",
       "      <td>58758</td>\n",
       "      <td>58759</td>\n",
       "      <td>Q2243887</td>\n",
       "      <td>item</td>\n",
       "      <td>8.1294444444444</td>\n",
       "      <td>77.512777777778</td>\n",
       "      <td>Kottaram</td>\n",
       "      <td>كوتارام</td>\n",
       "      <td>human settlement in Kanyakumari district, Tami...</td>\n",
       "      <td>NaN</td>\n",
       "      <td>مستوطنة في الهند</td>\n",
       "      <td>3b</td>\n",
       "      <td>True</td>\n",
       "      <td>8628682.952194417</td>\n",
       "      <td>908017.3759201405</td>\n",
       "      <td>2</td>\n",
       "      <td>1</td>\n",
       "      <td>31</td>\n",
       "      <td>[-2.54444375e-14  9.00000000e+01  2.26198649e+...</td>\n",
       "    </tr>\n",
       "  </tbody>\n",
       "</table>\n",
       "</div>"
      ],
      "text/plain": [
       "  Unnamed: 0.1 Unnamed: 0     id   item_id item_type         latitude  \\\n",
       "0            0      58758  58759  Q2243887      item  8.1294444444444   \n",
       "\n",
       "         longitude english_label ar_label  \\\n",
       "0  77.512777777778      Kottaram  كوتارام   \n",
       "\n",
       "                                               input heb_desc  \\\n",
       "0  human settlement in Kanyakumari district, Tami...      NaN   \n",
       "\n",
       "            ar_desc cell_id freeze                  x                  y  \\\n",
       "0  مستوطنة في الهند      3b   True  8628682.952194417  908017.3759201405   \n",
       "\n",
       "  cell_id_level face s2_sequence  \\\n",
       "0             2    1          31   \n",
       "\n",
       "                                                rect  \n",
       "0  [-2.54444375e-14  9.00000000e+01  2.26198649e+...  "
      ]
     },
     "execution_count": 7,
     "metadata": {},
     "output_type": "execute_result"
    }
   ],
   "source": [
    "df[:1]"
   ]
  },
  {
   "cell_type": "code",
   "execution_count": 30,
   "id": "b070af75",
   "metadata": {},
   "outputs": [
    {
     "data": {
      "text/html": [
       "<div style=\"width:100%;\"><div style=\"position:relative;width:100%;height:0;padding-bottom:60%;\"><span style=\"color:#565656\">Make this Notebook Trusted to load map: File -> Trust Notebook</span><iframe srcdoc=\"&lt;!DOCTYPE html&gt;\n",
       "&lt;html&gt;\n",
       "&lt;head&gt;\n",
       "    \n",
       "    &lt;meta http-equiv=&quot;content-type&quot; content=&quot;text/html; charset=UTF-8&quot; /&gt;\n",
       "    \n",
       "        &lt;script&gt;\n",
       "            L_NO_TOUCH = false;\n",
       "            L_DISABLE_3D = false;\n",
       "        &lt;/script&gt;\n",
       "    \n",
       "    &lt;style&gt;html, body {width: 100%;height: 100%;margin: 0;padding: 0;}&lt;/style&gt;\n",
       "    &lt;style&gt;#map {position:absolute;top:0;bottom:0;right:0;left:0;}&lt;/style&gt;\n",
       "    &lt;script src=&quot;https://cdn.jsdelivr.net/npm/leaflet@1.9.3/dist/leaflet.js&quot;&gt;&lt;/script&gt;\n",
       "    &lt;script src=&quot;https://code.jquery.com/jquery-3.7.1.min.js&quot;&gt;&lt;/script&gt;\n",
       "    &lt;script src=&quot;https://cdn.jsdelivr.net/npm/bootstrap@5.2.2/dist/js/bootstrap.bundle.min.js&quot;&gt;&lt;/script&gt;\n",
       "    &lt;script src=&quot;https://cdnjs.cloudflare.com/ajax/libs/Leaflet.awesome-markers/2.0.2/leaflet.awesome-markers.js&quot;&gt;&lt;/script&gt;\n",
       "    &lt;link rel=&quot;stylesheet&quot; href=&quot;https://cdn.jsdelivr.net/npm/leaflet@1.9.3/dist/leaflet.css&quot;/&gt;\n",
       "    &lt;link rel=&quot;stylesheet&quot; href=&quot;https://cdn.jsdelivr.net/npm/bootstrap@5.2.2/dist/css/bootstrap.min.css&quot;/&gt;\n",
       "    &lt;link rel=&quot;stylesheet&quot; href=&quot;https://netdna.bootstrapcdn.com/bootstrap/3.0.0/css/bootstrap.min.css&quot;/&gt;\n",
       "    &lt;link rel=&quot;stylesheet&quot; href=&quot;https://cdn.jsdelivr.net/npm/@fortawesome/fontawesome-free@6.2.0/css/all.min.css&quot;/&gt;\n",
       "    &lt;link rel=&quot;stylesheet&quot; href=&quot;https://cdnjs.cloudflare.com/ajax/libs/Leaflet.awesome-markers/2.0.2/leaflet.awesome-markers.css&quot;/&gt;\n",
       "    &lt;link rel=&quot;stylesheet&quot; href=&quot;https://cdn.jsdelivr.net/gh/python-visualization/folium/folium/templates/leaflet.awesome.rotate.min.css&quot;/&gt;\n",
       "    \n",
       "            &lt;meta name=&quot;viewport&quot; content=&quot;width=device-width,\n",
       "                initial-scale=1.0, maximum-scale=1.0, user-scalable=no&quot; /&gt;\n",
       "            &lt;style&gt;\n",
       "                #map_f75e80bbc63e85ed7b2a7d9440c404b0 {\n",
       "                    position: relative;\n",
       "                    width: 100.0%;\n",
       "                    height: 100.0%;\n",
       "                    left: 0.0%;\n",
       "                    top: 0.0%;\n",
       "                }\n",
       "                .leaflet-container { font-size: 1rem; }\n",
       "            &lt;/style&gt;\n",
       "        \n",
       "&lt;/head&gt;\n",
       "&lt;body&gt;\n",
       "    \n",
       "    \n",
       "            &lt;div class=&quot;folium-map&quot; id=&quot;map_f75e80bbc63e85ed7b2a7d9440c404b0&quot; &gt;&lt;/div&gt;\n",
       "        \n",
       "&lt;/body&gt;\n",
       "&lt;script&gt;\n",
       "    \n",
       "    \n",
       "            var map_f75e80bbc63e85ed7b2a7d9440c404b0 = L.map(\n",
       "                &quot;map_f75e80bbc63e85ed7b2a7d9440c404b0&quot;,\n",
       "                {\n",
       "                    center: [37.7749, -122.4194],\n",
       "                    crs: L.CRS.EPSG3857,\n",
       "                    zoom: 12,\n",
       "                    zoomControl: true,\n",
       "                    preferCanvas: false,\n",
       "                }\n",
       "            );\n",
       "\n",
       "            \n",
       "\n",
       "        \n",
       "    \n",
       "            var tile_layer_5491c8c0ba1e17710a542d42dc2c808c = L.tileLayer(\n",
       "                &quot;https://{s}.tile.openstreetmap.org/{z}/{x}/{y}.png&quot;,\n",
       "                {&quot;attribution&quot;: &quot;Data by \\u0026copy; \\u003ca target=\\&quot;_blank\\&quot; href=\\&quot;http://openstreetmap.org\\&quot;\\u003eOpenStreetMap\\u003c/a\\u003e, under \\u003ca target=\\&quot;_blank\\&quot; href=\\&quot;http://www.openstreetmap.org/copyright\\&quot;\\u003eODbL\\u003c/a\\u003e.&quot;, &quot;detectRetina&quot;: false, &quot;maxNativeZoom&quot;: 18, &quot;maxZoom&quot;: 18, &quot;minZoom&quot;: 0, &quot;noWrap&quot;: false, &quot;opacity&quot;: 1, &quot;subdomains&quot;: &quot;abc&quot;, &quot;tms&quot;: false}\n",
       "            );\n",
       "        \n",
       "    \n",
       "                tile_layer_5491c8c0ba1e17710a542d42dc2c808c.addTo(map_f75e80bbc63e85ed7b2a7d9440c404b0);\n",
       "&lt;/script&gt;\n",
       "&lt;/html&gt;\" style=\"position:absolute;width:100%;height:100%;left:0;top:0;border:none !important;\" allowfullscreen webkitallowfullscreen mozallowfullscreen></iframe></div></div>"
      ],
      "text/plain": [
       "<folium.folium.Map at 0x7f14d57b6370>"
      ]
     },
     "execution_count": 30,
     "metadata": {},
     "output_type": "execute_result"
    }
   ],
   "source": [
    "import folium\n",
    "\n",
    "# Create a Map centered at a specific location\n",
    "map_center = [37.7749, -122.4194]  # San Francisco, CA\n",
    "my_map = folium.Map(location=map_center, zoom_start=12)\n",
    "\n",
    "# Save the map as an HTML file\n",
    "my_map.save(\"my_map.html\")\n",
    "\n",
    "# Display the map in the Jupyter Notebook\n",
    "my_map"
   ]
  },
  {
   "cell_type": "code",
   "execution_count": 31,
   "id": "22be1a15",
   "metadata": {},
   "outputs": [],
   "source": [
    "import numpy as np\n",
    "\n",
    "data = (\n",
    "    np.random.normal(size=(100, 3)) * np.array([[1, 1, 1]]) + np.array([[48, 5, 1]])\n",
    ").tolist()\n"
   ]
  },
  {
   "cell_type": "code",
   "execution_count": 32,
   "id": "06931759",
   "metadata": {},
   "outputs": [
    {
     "data": {
      "text/plain": [
       "[[49.345677369644164, 6.580975882416139, -0.7466715167760574],\n",
       " [46.158550563696494, 5.785799632230043, 0.9952801004049668],\n",
       " [49.27833713870655, 5.08216862923724, 2.3497623812876114]]"
      ]
     },
     "execution_count": 32,
     "metadata": {},
     "output_type": "execute_result"
    }
   ],
   "source": [
    "data[:3]\n"
   ]
  },
  {
   "cell_type": "code",
   "execution_count": 33,
   "id": "6960a4d9",
   "metadata": {},
   "outputs": [
    {
     "data": {
      "text/html": [
       "<div style=\"width:100%;\"><div style=\"position:relative;width:100%;height:0;padding-bottom:60%;\"><span style=\"color:#565656\">Make this Notebook Trusted to load map: File -> Trust Notebook</span><iframe srcdoc=\"&lt;!DOCTYPE html&gt;\n",
       "&lt;html&gt;\n",
       "&lt;head&gt;\n",
       "    \n",
       "    &lt;meta http-equiv=&quot;content-type&quot; content=&quot;text/html; charset=UTF-8&quot; /&gt;\n",
       "    \n",
       "        &lt;script&gt;\n",
       "            L_NO_TOUCH = false;\n",
       "            L_DISABLE_3D = false;\n",
       "        &lt;/script&gt;\n",
       "    \n",
       "    &lt;style&gt;html, body {width: 100%;height: 100%;margin: 0;padding: 0;}&lt;/style&gt;\n",
       "    &lt;style&gt;#map {position:absolute;top:0;bottom:0;right:0;left:0;}&lt;/style&gt;\n",
       "    &lt;script src=&quot;https://cdn.jsdelivr.net/npm/leaflet@1.9.3/dist/leaflet.js&quot;&gt;&lt;/script&gt;\n",
       "    &lt;script src=&quot;https://code.jquery.com/jquery-3.7.1.min.js&quot;&gt;&lt;/script&gt;\n",
       "    &lt;script src=&quot;https://cdn.jsdelivr.net/npm/bootstrap@5.2.2/dist/js/bootstrap.bundle.min.js&quot;&gt;&lt;/script&gt;\n",
       "    &lt;script src=&quot;https://cdnjs.cloudflare.com/ajax/libs/Leaflet.awesome-markers/2.0.2/leaflet.awesome-markers.js&quot;&gt;&lt;/script&gt;\n",
       "    &lt;link rel=&quot;stylesheet&quot; href=&quot;https://cdn.jsdelivr.net/npm/leaflet@1.9.3/dist/leaflet.css&quot;/&gt;\n",
       "    &lt;link rel=&quot;stylesheet&quot; href=&quot;https://cdn.jsdelivr.net/npm/bootstrap@5.2.2/dist/css/bootstrap.min.css&quot;/&gt;\n",
       "    &lt;link rel=&quot;stylesheet&quot; href=&quot;https://netdna.bootstrapcdn.com/bootstrap/3.0.0/css/bootstrap.min.css&quot;/&gt;\n",
       "    &lt;link rel=&quot;stylesheet&quot; href=&quot;https://cdn.jsdelivr.net/npm/@fortawesome/fontawesome-free@6.2.0/css/all.min.css&quot;/&gt;\n",
       "    &lt;link rel=&quot;stylesheet&quot; href=&quot;https://cdnjs.cloudflare.com/ajax/libs/Leaflet.awesome-markers/2.0.2/leaflet.awesome-markers.css&quot;/&gt;\n",
       "    &lt;link rel=&quot;stylesheet&quot; href=&quot;https://cdn.jsdelivr.net/gh/python-visualization/folium/folium/templates/leaflet.awesome.rotate.min.css&quot;/&gt;\n",
       "    \n",
       "            &lt;meta name=&quot;viewport&quot; content=&quot;width=device-width,\n",
       "                initial-scale=1.0, maximum-scale=1.0, user-scalable=no&quot; /&gt;\n",
       "            &lt;style&gt;\n",
       "                #map_c2a54ea005da7a89c8a45e00914d0cde {\n",
       "                    position: relative;\n",
       "                    width: 100.0%;\n",
       "                    height: 100.0%;\n",
       "                    left: 0.0%;\n",
       "                    top: 0.0%;\n",
       "                }\n",
       "                .leaflet-container { font-size: 1rem; }\n",
       "            &lt;/style&gt;\n",
       "        \n",
       "    &lt;script src=&quot;https://cdn.jsdelivr.net/gh/python-visualization/folium@main/folium/templates/leaflet_heat.min.js&quot;&gt;&lt;/script&gt;\n",
       "&lt;/head&gt;\n",
       "&lt;body&gt;\n",
       "    \n",
       "    \n",
       "            &lt;div class=&quot;folium-map&quot; id=&quot;map_c2a54ea005da7a89c8a45e00914d0cde&quot; &gt;&lt;/div&gt;\n",
       "        \n",
       "&lt;/body&gt;\n",
       "&lt;script&gt;\n",
       "    \n",
       "    \n",
       "            var map_c2a54ea005da7a89c8a45e00914d0cde = L.map(\n",
       "                &quot;map_c2a54ea005da7a89c8a45e00914d0cde&quot;,\n",
       "                {\n",
       "                    center: [48.0, 5.0],\n",
       "                    crs: L.CRS.EPSG3857,\n",
       "                    zoom: 6,\n",
       "                    zoomControl: true,\n",
       "                    preferCanvas: false,\n",
       "                }\n",
       "            );\n",
       "\n",
       "            \n",
       "\n",
       "        \n",
       "    \n",
       "            var tile_layer_bb02de11d399b013f3b3b1732e23d83f = L.tileLayer(\n",
       "                &quot;https://{s}.tile.openstreetmap.org/{z}/{x}/{y}.png&quot;,\n",
       "                {&quot;attribution&quot;: &quot;Data by \\u0026copy; \\u003ca target=\\&quot;_blank\\&quot; href=\\&quot;http://openstreetmap.org\\&quot;\\u003eOpenStreetMap\\u003c/a\\u003e, under \\u003ca target=\\&quot;_blank\\&quot; href=\\&quot;http://www.openstreetmap.org/copyright\\&quot;\\u003eODbL\\u003c/a\\u003e.&quot;, &quot;detectRetina&quot;: false, &quot;maxNativeZoom&quot;: 18, &quot;maxZoom&quot;: 18, &quot;minZoom&quot;: 0, &quot;noWrap&quot;: false, &quot;opacity&quot;: 1, &quot;subdomains&quot;: &quot;abc&quot;, &quot;tms&quot;: false}\n",
       "            );\n",
       "        \n",
       "    \n",
       "                tile_layer_bb02de11d399b013f3b3b1732e23d83f.addTo(map_c2a54ea005da7a89c8a45e00914d0cde);\n",
       "    \n",
       "            var heat_map_23e9b6f446d78e481c29fbb2df12edea = L.heatLayer(\n",
       "                [[49.345677369644164, 6.580975882416139, -0.7466715167760574], [46.158550563696494, 5.785799632230043, 0.9952801004049668], [49.27833713870655, 5.08216862923724, 2.3497623812876114], [47.327208909191604, 5.500657563597873, -0.2210592973958192], [48.43892781345285, 5.004797599210811, 0.4189537601747172], [49.79675945689089, 5.343831611559144, -0.31284040390909174], [47.01890969889837, 6.009137312152766, 0.8412892220231651], [46.753936331201885, 3.3831815013612996, 1.2695794117400303], [47.527033345587505, 5.493318918497424, 0.5658439421070766], [48.64262698436594, 4.755051286571449, -1.0642410015779262], [49.78305462766794, 3.5505266400363222, 2.4866463699776418], [49.756867591789685, 4.605490183248468, 0.10428168410680971], [48.22289460504419, 7.303841373928851, 1.8746324945297914], [47.85219686675902, 6.058563946494328, 1.395696929184258], [48.92118091377341, 4.32684719160388, -1.073782975510703], [49.49976996710626, 7.204045852203285, 0.11631344321798098], [51.070078162255264, 3.7757398638474324, 1.2352395067900923], [49.368692738010985, 4.233555915033327, 1.3181213517087198], [47.938197142698165, 4.4647580431687155, -0.2559968501226628], [49.641549633646335, 5.525478774287145, 0.19126152345525727], [47.28518825499059, 4.5358672347575775, 0.6194025257105382], [47.761007115881426, 5.149700674334161, 0.8003670816925561], [49.07903905110675, 5.061357485843419, 0.27166781862159084], [47.8595354208937, 4.144472297036358, 0.2298613318558963], [46.81546041736472, 4.178690697559214, -0.30806803435943864], [45.725572901361076, 4.9729336763790695, 0.8647695236524613], [47.69483560877952, 4.001112835649605, 1.8807155224573857], [47.60305559141567, 2.327428655987674, 2.563165480808664], [48.51652344046104, 6.837066202975767, 0.38406833282465436], [50.10117667237013, 5.698801854852501, -0.7767128641359746], [45.98730877990568, 5.824780154290672, 0.5840762639437751], [49.150484766168866, 4.869243059523853, 0.7054633305857412], [47.64680522666462, 3.5525831490230058, 1.9468982412750289], [47.517114134781025, 3.533849114483908, 0.5814011035710573], [47.7972139907523, 5.744826635905802, -0.566899325946665], [48.2301054010617, 4.259474835128734, 1.2480505012336744], [47.88020238531499, 4.015655331077778, 1.4107949604436123], [49.96839101738601, 5.090806902223077, 1.170132952245257], [47.51669638404594, 4.750502374962659, 2.2206150270075478], [47.96021648310345, 7.463711911291107, -0.06407031401080032], [47.071587982925166, 4.793155790481502, 1.6493744852053982], [48.117452535526304, 5.052405392055336, 0.018552515197542863], [48.65529135816503, 4.156623575149661, 0.48882483676451416], [45.799231524199904, 3.9703350360274463, 1.9437847453426151], [47.96344192705011, 4.411127007098983, 0.539165754344112], [47.00622775626579, 4.921348225788984, 0.6638022325057149], [49.396678139200766, 3.958367636023901, 1.8797758732933905], [49.138677876335095, 2.7040269489946116, 0.5767285788850794], [49.6742935109753, 7.090164775963145, 1.3556910828110158], [49.43783495840902, 1.9230253983928653, 0.26319531733564006], [48.16586737017839, 4.906694314852936, -0.27679760951314125], [49.31142193199359, 4.27932171823371, 2.0713712857443047], [49.60751813652548, 4.929116710935128, 0.3553759219103597], [46.874991050137986, 4.928491295425744, 0.9293700469672846], [47.64068772860334, 6.26920305008087, 1.7236209499707642], [47.29596028278254, 4.500258797951219, 1.685296056807457], [47.41225268333366, 5.511224950107246, 1.5616885670535954], [48.1156732054277, 4.808717376361472, -0.0800224693020215], [47.27026465010505, 4.1529321482183725, 0.38057542696979896], [47.4019123603894, 7.000274445021034, 0.6616180770741837], [48.563514465767874, 5.348653581183383, 1.1421097428459557], [48.965587051362334, 3.9475166765772927, 2.2298252112159975], [47.40359190236238, 6.491452455631988, -0.09249147610481523], [47.306488215890376, 3.466245783807497, 0.3244795460013481], [49.63356027644841, 4.95650636503294, 0.042233657303836325], [46.828059714086756, 5.995349029298968, 1.1017554347031333], [48.12723558021803, 3.9293206351255394, 1.5207410627692162], [48.31877771679066, 5.246494244125449, 1.2604405221234791], [48.281464311392405, 5.880134701597859, 0.018380325545518494], [48.12621526034879, 5.965297268198478, 1.50168385463442], [47.8392047289959, 5.48692095057336, -0.00779283825825372], [44.436768510842455, 5.58740734959803, -0.39029635022876863], [47.683122885840135, 5.97562019798412, -0.9891642157195264], [47.89451955513482, 4.905983737468669, 1.4608912986826137], [48.45732963612529, 2.1325225258107343, 1.7957187806268715], [47.74262582545572, 4.33861784337068, 0.28857173024268723], [48.33120064871661, 4.466628826079663, 1.8451057341532213], [47.698431376153515, 5.427379216911707, 1.6431561880595988], [48.90967098549214, 4.941116339138848, 2.8387289582673696], [48.435644004327365, 5.038432971599067, 2.164098532936314], [46.79034922144825, 4.6578450664182105, 0.572338908985241], [48.23084700022225, 3.5727436316899186, 0.18197575075644246], [48.14245543774026, 6.169537578518004, -0.19881188638193747], [48.23653580086718, 5.915680815967748, -0.6561578166520596], [45.980265446723415, 4.80844741551254, 2.8354904181067204], [47.51247988963668, 4.1393733365737875, 1.5158356517040101], [48.37677738325625, 5.124151223311626, 1.1550440282556387], [48.293665279887286, 6.0289233847806, -0.3827828288990267], [50.21759947790132, 4.9532166303764535, 1.8206364905110493], [47.937293032709704, 7.039045846257659, 0.49869538083154197], [48.80540531332069, 5.141913040224046, 1.8998116761722974], [49.24777753705573, 4.437729201641869, 0.9336724463750309], [48.905791043028735, 5.768160735949631, 1.2851709602058243], [47.243281550382584, 6.157228939659602, 1.8510242823951375], [45.5958648669904, 5.499051513504856, 2.3298192563520628], [48.876710767065696, 4.323593147573835, 2.1484139777312627], [47.383148728685576, 4.2266107068676, -0.2946432722359398], [49.40270928253123, 5.810812789938655, 0.0354660428566671], [48.85259822569353, 5.767235115577322, 1.9383823580454722], [45.4837933966269, 4.767630548369956, 2.152445113370667]],\n",
       "                {&quot;blur&quot;: 15, &quot;maxZoom&quot;: 18, &quot;minOpacity&quot;: 0.5, &quot;radius&quot;: 25}\n",
       "            );\n",
       "        \n",
       "    \n",
       "                heat_map_23e9b6f446d78e481c29fbb2df12edea.addTo(map_c2a54ea005da7a89c8a45e00914d0cde);\n",
       "&lt;/script&gt;\n",
       "&lt;/html&gt;\" style=\"position:absolute;width:100%;height:100%;left:0;top:0;border:none !important;\" allowfullscreen webkitallowfullscreen mozallowfullscreen></iframe></div></div>"
      ],
      "text/plain": [
       "<folium.folium.Map at 0x7f14d5743f10>"
      ]
     },
     "execution_count": 33,
     "metadata": {},
     "output_type": "execute_result"
    }
   ],
   "source": [
    "import folium\n",
    "from folium.plugins import HeatMap\n",
    "\n",
    "m = folium.Map([48.0, 5.0], zoom_start=6)\n",
    "\n",
    "HeatMap(data).add_to(m)\n",
    "\n",
    "m"
   ]
  },
  {
   "cell_type": "code",
   "execution_count": null,
   "id": "8245efab",
   "metadata": {},
   "outputs": [],
   "source": []
  }
 ],
 "metadata": {
  "kernelspec": {
   "display_name": "Python 3 (ipykernel)",
   "language": "python",
   "name": "python3"
  },
  "language_info": {
   "codemirror_mode": {
    "name": "ipython",
    "version": 3
   },
   "file_extension": ".py",
   "mimetype": "text/x-python",
   "name": "python",
   "nbconvert_exporter": "python",
   "pygments_lexer": "ipython3",
   "version": "3.8.0"
  }
 },
 "nbformat": 4,
 "nbformat_minor": 5
}
