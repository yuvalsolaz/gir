{
 "cells": [
  {
   "cell_type": "code",
   "execution_count": 1,
   "id": "65b9150a",
   "metadata": {},
   "outputs": [],
   "source": [
    "import sys\n",
    "import numpy as np\n",
    "import pandas as pd"
   ]
  },
  {
   "cell_type": "code",
   "execution_count": null,
   "id": "425bdb68",
   "metadata": {},
   "outputs": [],
   "source": []
  },
  {
   "cell_type": "code",
   "execution_count": 2,
   "id": "9d8eb166",
   "metadata": {},
   "outputs": [],
   "source": [
    "samples_file = r'/home/yuvalso/repository/gir/data/wiki/benchmark_test_small.csv'"
   ]
  },
  {
   "cell_type": "code",
   "execution_count": 3,
   "id": "39b520b7",
   "metadata": {},
   "outputs": [],
   "source": [
    "df = pd.read_csv(samples_file,dtype=str)\n",
    "if 'input' not in df.columns:\n",
    "    print(f'invalid sample file: missing input column in {samples_file} file')\n",
    "    print(df.head())"
   ]
  },
  {
   "cell_type": "code",
   "execution_count": 9,
   "id": "00895608",
   "metadata": {},
   "outputs": [
    {
     "data": {
      "text/plain": [
       "Index(['Unnamed: 0', 'Unnamed: 0.1', 'id', 'item_id', 'item_type', 'latitude',\n",
       "       'longitude', 'english_label', 'ar_label', 'input', 'heb_desc',\n",
       "       'ar_desc', 'cell_id', 'freeze', 'x', 'y', 'cell_id_level', 'face',\n",
       "       's2_sequence', 'rect'],\n",
       "      dtype='object')"
      ]
     },
     "execution_count": 9,
     "metadata": {},
     "output_type": "execute_result"
    }
   ],
   "source": [
    "df.column\n",
    "# df.loc['s2_sequence']\n",
    "\n"
   ]
  }
 ],
 "metadata": {
  "kernelspec": {
   "display_name": "Python 3",
   "language": "python",
   "name": "python3"
  },
  "language_info": {
   "codemirror_mode": {
    "name": "ipython",
    "version": 3
   },
   "file_extension": ".py",
   "mimetype": "text/x-python",
   "name": "python",
   "nbconvert_exporter": "python",
   "pygments_lexer": "ipython3",
   "version": "3.6.9"
  }
 },
 "nbformat": 4,
 "nbformat_minor": 5
}
